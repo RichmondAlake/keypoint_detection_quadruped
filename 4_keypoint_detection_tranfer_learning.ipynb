{
 "cells": [
  {
   "cell_type": "code",
   "execution_count": 1,
   "metadata": {},
   "outputs": [],
   "source": [
    "import torch\n",
    "import torch.nn as nn\n",
    "import torch.optim as optim\n",
    "import torch.utils.data\n",
    "from torch.optim import lr_scheduler\n",
    "import numpy as np\n",
    "from torchvision import datasets,models, transforms\n",
    "import matplotlib.pyplot as plt\n",
    "import time\n",
    "import os\n",
    "import copy\n",
    "import cv2\n",
    "import PIL\n",
    "import re\n",
    "\n",
    "\n",
    "plt.ion()\n",
    "device = torch.device(\"cuda:0\" if torch.cuda.is_available() else \"cpu\")\n"
   ]
  },
  {
   "cell_type": "code",
   "execution_count": null,
   "metadata": {},
   "outputs": [],
   "source": [
    "# TODO: Dispay 5 images of keypoints working with humans\n",
    "# TODO: Display 5 images of wolves with ground truth keypoints\n",
    "# TODO: Display 5 images of wolves with ground truth bounding boxes"
   ]
  },
  {
   "cell_type": "code",
   "execution_count": 14,
   "metadata": {},
   "outputs": [],
   "source": []
  },
  {
   "cell_type": "code",
   "execution_count": null,
   "metadata": {},
   "outputs": [],
   "source": [
    "# Implement pretrained keypoint_rcnn for keypoint detection on human picture\n",
    "model = models.detection.keypointrcnn_resnet50_fpn(pretrained=True)\n",
    "\n",
    "model.eval()\n",
    "\n",
    "image = cv2.imread('images/player2.jpg')\n",
    "image_tensor = transforms.functional.to_tensor(image)\n",
    "\n",
    "output = model([image_tensor])\n",
    "\n",
    "for instance in output[0][\"keypoints\"]:\n",
    "    for kp in instance:\n",
    "        cv2.circle(image, (int(kp[0]), int(kp[1])), int(3*kp[2]), (127, 200, 127), 2, cv2.LINE_AA)\n",
    "    \n",
    "cv2.imshow(\"img\", image)\n",
    "cv2.waitKey(0)\n",
    "cv2.destroyAllWindows()\n"
   ]
  },
  {
   "cell_type": "code",
   "execution_count": 2,
   "metadata": {},
   "outputs": [],
   "source": [
    "#Load and process dataset for input to keypoint_rcnn model\n",
    "class LoadQuadrupedDataset(torch.utils.data.Dataset):\n",
    "    def __init__(self, root, cus_transforms=None):\n",
    "        self.root = root\n",
    "        self.transforms = cus_transforms\n",
    "        self.images = list(os.listdir(os.path.join(root)))\n",
    "\n",
    "    def __len__(self):\n",
    "        return len(self.images)\n",
    "    \n",
    "    def __getitem__(self, index):\n",
    "        # [Images]\n",
    "        img_path = os.path.join(self.root, self.images[index])\n",
    "        img = PIL.Image.open(img_path).convert(\"RGB\")\n",
    "\n",
    "        # [Targets]\n",
    "        annotation_path = 'Datasets/Synthetic_Wolf_1__2019_07_18/Annotation/BonePositions.txt'\n",
    "        file = open(annotation_path, \"r\")\n",
    "\n",
    "        targets = []\n",
    "        labels = {}\n",
    "        keypoints = {}\n",
    "        boxes = {}\n",
    "        count = 0\n",
    "        \n",
    "        ## Need to change the labels to 1         labels = torch.ones((num_objs,), dtype=torch.int64)\n",
    "        #        - labels (``Int64Tensor[N]``): the class label for each ground-truth box\n",
    "\n",
    "        for i, line in enumerate(file):\n",
    "        # Extracting labels, Labels of keypoints are stored in the first index: index 0\n",
    "            if i == 0:\n",
    "                for j, keypoint_label in enumerate(line.split(' ')):\n",
    "                    if j is not 0:\n",
    "                        labels[j] = torch.as_tensor(1)\n",
    "            # Exracting keypoints, keypoints are stored after the first line of the file\n",
    "            individual_cordinates = line.split(' ')[0]\n",
    "            individual_cordinates = re.split(r'\\t+', individual_cordinates)\n",
    "\n",
    "            for j, cordinate in enumerate(individual_cordinates):\n",
    "                count += 1        \n",
    "                # Skip even iterations as including it duplicates (x,y) cordinates entry\n",
    "                if j%2 == 0:\n",
    "                    continue\n",
    "                # Skip the value in the first index of the list as this is the frame number    \n",
    "                if j is not 0:\n",
    "                    #[torch.as_tensor(1), torch.FloatTensor([100.3232323, 133.13213, 1])]\n",
    "                    keypoints[int(count / 2)] = torch.FloatTensor([[float(cordinate), float(individual_cordinates[j + 1]), 1]])\n",
    "                    if j is 1:\n",
    "                        # Obtain the boxes of each samples, theese are: xmin, xmax, ymin, ymax\n",
    "                        xmin = float(cordinate)\n",
    "                        xmax = float(cordinate)\n",
    "                        ymin = float(individual_cordinates[j + 1])\n",
    "                        ymax = float(individual_cordinates[j + 1])\n",
    "                        boxes[i] = torch.FloatTensor([float(xmin), float(ymin), float(xmax), float(ymax)])\n",
    "                    else:\n",
    "                        xmin = xmin if (xmin < float(cordinate)) else float(cordinate)\n",
    "                        xmax = xmax if (xmax > float(cordinate)) else float(cordinate)\n",
    "                        ymin = ymin if (ymin < float(individual_cordinates[j + 1])) else float(individual_cordinates[j + 1])\n",
    "                        ymax = ymax if (ymax > float(individual_cordinates[j + 1])) else float(individual_cordinates[j + 1])\n",
    "                        boxes[i] = torch.FloatTensor([float(xmin), float(ymin), float(xmax), float(ymax)])\n",
    "        \n",
    "        targets.append(labels)\n",
    "        targets.append(keypoints)\n",
    "        targets.append(boxes)\n",
    "        \n",
    "        '''\n",
    "        #print(keypoints)\n",
    "        for t in targets:\n",
    "            for k, v in t.items():\n",
    "                if torch.is_tensor(v) is False: \n",
    "                    print(v)\n",
    "          '''\n",
    "        if self.transforms is not None:\n",
    "            img = self.transforms(img)\n",
    "        \n",
    "        #targets = [{k: v.to(device) for k, v in t.items()} for t in targets]\n",
    "      \n",
    "        return img, targets"
   ]
  },
  {
   "cell_type": "code",
   "execution_count": 4,
   "metadata": {},
   "outputs": [],
   "source": [
    "#LoadQuadrupedDataset('Datasets/Synthetic_Wolf_1__2019_07_18/Images/1')[0]"
   ]
  },
  {
   "cell_type": "code",
   "execution_count": 33,
   "metadata": {},
   "outputs": [],
   "source": [
    "def get_transform(train):\n",
    "    transforms_container = []\n",
    "    transforms_container.append(transforms.ToTensor())\n",
    "    return transforms.Compose(transforms_container)"
   ]
  },
  {
   "cell_type": "code",
   "execution_count": 4,
   "metadata": {},
   "outputs": [],
   "source": [
    "# Training using new method\n",
    "from engine import train_one_epoch, evaluate\n",
    "\n",
    "dataset = LoadQuadrupedDataset('Datasets/Synthetic_Wolf_1__2019_07_18/Images/1', get_transform(train=True))\n",
    "dataLoader = torch.utils.data.DataLoader(dataset, batch_size=20, shuffle=False, num_workers=0)\n",
    "\n",
    "keypoint_rcnn_model = models.detection.keypointrcnn_resnet50_fpn(pretrained=False, progress=True, num_classes=2, num_keypoints=17, pretrained_backbone=True)\n",
    "criterion = nn.CrossEntropyLoss()\n",
    "\n",
    "params = [p for p in keypoint_rcnn_model.parameters() if p.requires_grad]\n",
    "optimizer_ft = torch.optim.SGD(params, lr=0.005, momentum=0.9, weight_decay=0.0005)\n",
    "\n",
    "exp_lr_scheduler = torch.optim.lr_scheduler.StepLR(optimizer_ft, step_size=3, gamma=0.1)"
   ]
  },
  {
   "cell_type": "code",
   "execution_count": 5,
   "metadata": {},
   "outputs": [
    {
     "ename": "NameError",
     "evalue": "name 'train_one_epoch' is not defined",
     "output_type": "error",
     "traceback": [
      "\u001b[1;31m---------------------------------------------------------------------------\u001b[0m",
      "\u001b[1;31mNameError\u001b[0m                                 Traceback (most recent call last)",
      "\u001b[1;32m<ipython-input-5-76c3f1b180bc>\u001b[0m in \u001b[0;36m<module>\u001b[1;34m\u001b[0m\n\u001b[0;32m      2\u001b[0m \u001b[1;33m\u001b[0m\u001b[0m\n\u001b[0;32m      3\u001b[0m \u001b[1;32mfor\u001b[0m \u001b[0mepoch\u001b[0m \u001b[1;32min\u001b[0m \u001b[0mrange\u001b[0m\u001b[1;33m(\u001b[0m\u001b[0mnum_epochs\u001b[0m\u001b[1;33m)\u001b[0m\u001b[1;33m:\u001b[0m\u001b[1;33m\u001b[0m\u001b[1;33m\u001b[0m\u001b[0m\n\u001b[1;32m----> 4\u001b[1;33m     \u001b[0mtrain_one_epoch\u001b[0m\u001b[1;33m(\u001b[0m\u001b[0mkeypoint_rcnn_model\u001b[0m\u001b[1;33m,\u001b[0m \u001b[0moptimizer_ft\u001b[0m\u001b[1;33m,\u001b[0m \u001b[0mdataLoader\u001b[0m\u001b[1;33m,\u001b[0m \u001b[0mdevice\u001b[0m\u001b[1;33m,\u001b[0m \u001b[0mepoch\u001b[0m\u001b[1;33m,\u001b[0m \u001b[0mprint_freq\u001b[0m\u001b[1;33m=\u001b[0m\u001b[1;36m10\u001b[0m\u001b[1;33m)\u001b[0m\u001b[1;33m\u001b[0m\u001b[1;33m\u001b[0m\u001b[0m\n\u001b[0m\u001b[0;32m      5\u001b[0m     \u001b[0mlr_scheduler\u001b[0m\u001b[1;33m.\u001b[0m\u001b[0mstep\u001b[0m\u001b[1;33m(\u001b[0m\u001b[1;33m)\u001b[0m\u001b[1;33m\u001b[0m\u001b[1;33m\u001b[0m\u001b[0m\n\u001b[0;32m      6\u001b[0m     \u001b[1;31m#evaluate(keypoint_rcnn_model)\u001b[0m\u001b[1;33m\u001b[0m\u001b[1;33m\u001b[0m\u001b[1;33m\u001b[0m\u001b[0m\n",
      "\u001b[1;31mNameError\u001b[0m: name 'train_one_epoch' is not defined"
     ]
    }
   ],
   "source": [
    "num_epochs = 1\n",
    "\n",
    "for epoch in range(num_epochs):\n",
    "    train_one_epoch(keypoint_rcnn_model, optimizer_ft, dataLoader, device, epoch, print_freq=10)\n",
    "    lr_scheduler.step()\n",
    "    #evaluate(keypoint_rcnn_model)"
   ]
  },
  {
   "cell_type": "code",
   "execution_count": null,
   "metadata": {},
   "outputs": [],
   "source": []
  },
  {
   "cell_type": "code",
   "execution_count": null,
   "metadata": {},
   "outputs": [],
   "source": []
  }
 ],
 "metadata": {
  "kernelspec": {
   "display_name": "Python 3",
   "language": "python",
   "name": "python3"
  },
  "language_info": {
   "codemirror_mode": {
    "name": "ipython",
    "version": 3
   },
   "file_extension": ".py",
   "mimetype": "text/x-python",
   "name": "python",
   "nbconvert_exporter": "python",
   "pygments_lexer": "ipython3",
   "version": "3.7.3"
  }
 },
 "nbformat": 4,
 "nbformat_minor": 2
}
